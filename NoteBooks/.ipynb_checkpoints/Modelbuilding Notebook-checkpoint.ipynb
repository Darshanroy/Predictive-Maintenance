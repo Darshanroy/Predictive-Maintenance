{
 "cells": [
  {
   "cell_type": "code",
   "execution_count": 2,
   "id": "b834a3e9",
   "metadata": {
    "scrolled": true
   },
   "outputs": [
    {
     "name": "stderr",
     "output_type": "stream",
     "text": [
      "C:\\Users\\91845\\AppData\\Local\\Programs\\Python\\Python311\\Lib\\site-packages\\xgboost\\compat.py:36: FutureWarning: pandas.Int64Index is deprecated and will be removed from pandas in a future version. Use pandas.Index with the appropriate dtype instead.\n",
      "  from pandas import MultiIndex, Int64Index\n"
     ]
    }
   ],
   "source": [
    "import pandas as pd\n",
    "from sklearn.linear_model import LogisticRegression\n",
    "from sklearn.tree import DecisionTreeClassifier\n",
    "from sklearn.ensemble import RandomForestClassifier, AdaBoostClassifier, GradientBoostingClassifier\n",
    "from sklearn.svm import SVC\n",
    "from sklearn.neighbors import KNeighborsClassifier\n",
    "from sklearn.naive_bayes import GaussianNB\n",
    "from sklearn.neural_network import MLPClassifier\n",
    "from sklearn.discriminant_analysis import LinearDiscriminantAnalysis, QuadraticDiscriminantAnalysis\n",
    "from sklearn.linear_model import SGDClassifier\n",
    "from xgboost import XGBClassifier\n",
    "from lightgbm import LGBMClassifier\n",
    "from catboost import CatBoostClassifier\n",
    "from sklearn.model_selection import GridSearchCV\n"
   ]
  },
  {
   "cell_type": "code",
   "execution_count": 22,
   "id": "fd2646ac",
   "metadata": {},
   "outputs": [],
   "source": [
    "main_data = pd.read_csv('TPreprocessedData.csv') \n",
    "\n",
    "# Define features (X) and target variable (y) assuming there is a column named 'target' in train_data\n",
    "X = main_data.drop(columns=['Failure Type'])  # Features\n",
    "y = main_data['Failure Type']  # Target variable\n",
    "\n",
    "# Perform train-test split\n",
    "X_train_2, X_test_2, y_train_2, y_test_2 = train_test_split(X, y, test_size=0.2, random_state=42)"
   ]
  },
  {
   "cell_type": "code",
   "execution_count": 23,
   "id": "2a673d79",
   "metadata": {},
   "outputs": [],
   "source": [
    "import pandas as pd\n",
    "from sklearn.model_selection import train_test_split\n",
    "\n",
    "# Load data\n",
    "train_data = pd.read_csv(\"train_data.csv\")\n",
    "test_data = pd.read_csv(\"test_data.csv\")\n",
    "\n",
    "# Perform train-test split\n",
    "X_train = train_data.drop(columns=['Target'])  # Features for training\n",
    "y_train = train_data['Target']  # Target variable for training\n",
    "\n",
    "X_test = test_data.drop(columns=['Target'])  # Features for testing\n",
    "y_test = test_data['Target']  # Target variable for testing"
   ]
  },
  {
   "cell_type": "markdown",
   "id": "00d6f164",
   "metadata": {},
   "source": [
    "# Logistic Regression\n",
    "\n",
    "\n",
    "`In the multiclass case, the training algorithm uses the one-vs-rest (OvR)\n",
    "scheme if the 'multi_class' option is set to 'ovr', and uses the\n",
    "cross-entropy loss if the 'multi_class' option is set to 'multinomial'.\n",
    "(Currently the 'multinomial' option is supported only by the 'lbfgs',\n",
    "'sag', 'saga' and 'newton-cg' solvers.)`"
   ]
  },
  {
   "cell_type": "code",
   "execution_count": 14,
   "id": "650ccb09",
   "metadata": {
    "scrolled": true
   },
   "outputs": [
    {
     "name": "stdout",
     "output_type": "stream",
     "text": [
      "Fitting 5 folds for each of 144 candidates, totalling 720 fits\n",
      "Best Parameters: {'C': 1, 'class_weight': None, 'max_iter': 100, 'penalty': 'l1', 'random_state': 42, 'solver': 'liblinear'}\n",
      "Test Accuracy: 0.999\n"
     ]
    },
    {
     "ename": "TypeError",
     "evalue": "'NoneType' object is not callable",
     "output_type": "error",
     "traceback": [
      "\u001b[1;31m---------------------------------------------------------------------------\u001b[0m",
      "\u001b[1;31mTypeError\u001b[0m                                 Traceback (most recent call last)",
      "Cell \u001b[1;32mIn[14], line 26\u001b[0m\n\u001b[0;32m     24\u001b[0m best_model \u001b[38;5;241m=\u001b[39m grid_search\u001b[38;5;241m.\u001b[39mbest_estimator_\n\u001b[0;32m     25\u001b[0m test_score \u001b[38;5;241m=\u001b[39m best_model\u001b[38;5;241m.\u001b[39mscore(X_test, y_test)\n\u001b[1;32m---> 26\u001b[0m \u001b[38;5;28;43mprint\u001b[39;49m\u001b[43m(\u001b[49m\u001b[38;5;124;43m\"\u001b[39;49m\u001b[38;5;124;43mTest Accuracy:\u001b[39;49m\u001b[38;5;124;43m\"\u001b[39;49m\u001b[43m,\u001b[49m\u001b[43m \u001b[49m\u001b[43mtest_score\u001b[49m\u001b[43m)\u001b[49m\u001b[43m(\u001b[49m\u001b[43m)\u001b[49m\n",
      "\u001b[1;31mTypeError\u001b[0m: 'NoneType' object is not callable"
     ]
    }
   ],
   "source": [
    "# Define the parameters grid to search\n",
    "param_grid = {\n",
    "    'penalty': ['l1', 'l2'],\n",
    "    'C': [0.001, 0.01, 0.1, 1, 10, 100],\n",
    "    'solver': ['liblinear', 'saga'],\n",
    "    'max_iter': [100, 200, 300],\n",
    "    'class_weight': [None, 'balanced'],\n",
    "    'random_state': [42]\n",
    "}\n",
    "\n",
    "# Create the Logistic Regression model\n",
    "log_reg = LogisticRegression()\n",
    "\n",
    "# Create GridSearchCV object\n",
    "grid_search = GridSearchCV(estimator=log_reg, param_grid=param_grid, cv=5, n_jobs=-1, verbose=2)\n",
    "\n",
    "# Fit the GridSearchCV object to find the best parameters\n",
    "grid_search.fit(X_train, y_train)\n",
    "\n",
    "# Print the best parameters found\n",
    "print(\"Best Parameters:\", grid_search.best_params_)\n",
    "\n"
   ]
  },
  {
   "cell_type": "code",
   "execution_count": 15,
   "id": "5b5c28ce",
   "metadata": {},
   "outputs": [
    {
     "name": "stdout",
     "output_type": "stream",
     "text": [
      "Test Accuracy: 0.999\n"
     ]
    }
   ],
   "source": [
    "# Evaluate the model performance on the test set\n",
    "best_model = grid_search.best_estimator_\n",
    "test_score = best_model.score(X_test, y_test)\n",
    "print(\"Test Accuracy:\", test_score)"
   ]
  },
  {
   "cell_type": "code",
   "execution_count": null,
   "id": "858631c2",
   "metadata": {},
   "outputs": [
    {
     "name": "stdout",
     "output_type": "stream",
     "text": [
      "Fitting 5 folds for each of 144 candidates, totalling 720 fits\n"
     ]
    }
   ],
   "source": [
    "# Define the parameters grid to search\n",
    "param_grid = {\n",
    "    'penalty': ['l1', 'l2'],\n",
    "    'C': [0.001, 0.01, 0.1, 1, 10, 100],\n",
    "    'solver': ['liblinear', 'saga'],\n",
    "    'max_iter': [100, 200, 300],\n",
    "    'class_weight': [None, 'balanced'],\n",
    "    'random_state': [42]\n",
    "}\n",
    "\n",
    "# Create the Logistic Regression model\n",
    "log_reg = LogisticRegression()\n",
    "\n",
    "# Create GridSearchCV object\n",
    "grid_search = GridSearchCV(estimator=log_reg, param_grid=param_grid, cv=5, n_jobs=-1, verbose=2)\n",
    "\n",
    "# Fit the GridSearchCV object to find the best parameters\n",
    "grid_search.fit(X_train_2, y_train_2)\n",
    "\n",
    "# Print the best parameters found\n",
    "print(\"Best Parameters:\", grid_search.best_params_)\n",
    "\n"
   ]
  },
  {
   "cell_type": "code",
   "execution_count": null,
   "id": "5872f595",
   "metadata": {},
   "outputs": [],
   "source": [
    "# Evaluate the model performance on the test set\n",
    "best_model = grid_search.best_estimator_\n",
    "test_score = best_model.score(X_test_2, y_test_2)\n",
    "print(\"Test Accuracy:\", test_score)\n",
    "print(\"CV Results:\", grid_search.cv_results_)\n"
   ]
  },
  {
   "cell_type": "code",
   "execution_count": 19,
   "id": "b206c86f",
   "metadata": {},
   "outputs": [
    {
     "data": {
      "image/png": "[encoded data removed]",
      "text/plain": [
       "<Figure size 640x480 with 1 Axes>"
      ]
     },
     "metadata": {},
     "output_type": "display_data"
    }
   ],
   "source": [
    "from sklearn.model_selection import learning_curve\n",
    "import numpy as np\n",
    "import matplotlib.pyplot as plt\n",
    " \n",
    "    \n",
    "# Define a function to plot learning curves\n",
    "def plot_learning_curve(estimator, X, y):\n",
    "    train_sizes, train_scores, test_scores = learning_curve(\n",
    "        estimator, X, y, cv=5, n_jobs=-1, train_sizes=np.linspace(0.1, 1.0, 10)\n",
    "    )\n",
    "    \n",
    "    train_scores_mean = np.mean(train_scores, axis=1)\n",
    "    train_scores_std = np.std(train_scores, axis=1)\n",
    "    test_scores_mean = np.mean(test_scores, axis=1)\n",
    "    test_scores_std = np.std(test_scores, axis=1)\n",
    "    \n",
    "    plt.figure()\n",
    "    plt.title(\"Learning Curve\")\n",
    "    plt.xlabel(\"Training Examples\")\n",
    "    plt.ylabel(\"Score\")\n",
    "    plt.grid()\n",
    "\n",
    "    plt.fill_between(train_sizes, train_scores_mean - train_scores_std,\n",
    "                     train_scores_mean + train_scores_std, alpha=0.1,\n",
    "                     color=\"r\")\n",
    "    plt.fill_between(train_sizes, test_scores_mean - test_scores_std,\n",
    "                     test_scores_mean + test_scores_std, alpha=0.1, color=\"g\")\n",
    "    plt.plot(train_sizes, train_scores_mean, 'o-', color=\"r\", label=\"Training Score\")\n",
    "    plt.plot(train_sizes, test_scores_mean, 'o-', color=\"g\", label=\"Cross-validation Score\")\n",
    "    plt.legend(loc=\"best\")\n",
    "    plt.show()\n",
    "\n",
    "# Call the function with your best model and data\n",
    "plot_learning_curve(best_model, X_train, y_train)"
   ]
  },
  {
   "cell_type": "markdown",
   "id": "17b33b30",
   "metadata": {},
   "source": [
    "1. Liblinear: This solver is recommended for smaller datasets. It uses a coordinate descent algorithm to optimize the cost function. It supports both L1 and L2 regularization, but it does not support some advanced options like the elastic net penalty. It's a good choice for problems with a large number of samples or features.\n",
    "\n",
    "2. SAGA: This solver is a variant of the stochastic average gradient descent method. It's often faster than other solvers for large datasets and supports both L1 and L2 regularization. It's particularly well-suited for problems with a large number of samples, as it's designed to handle large-scale optimization problems efficiently.\n",
    "\n",
    "#### Here's how C affects logistic regression:\n",
    "\n",
    "3. Regularization strength: C controls the amount of regularization applied to the model. A smaller C value indicates stronger regularization, meaning the model will be simpler and less likely to overfit the training data. Conversely, a larger C value means weaker regularization, allowing the model to fit the training data more closely, potentially leading to overfitting.\n",
    "\n",
    "3. Impact on coefficients: The regularization term penalizes large coefficients in logistic regression. Smaller values of C result in stronger regularization, which shrinks the coefficients towards zero or eliminates them entirely if they are not contributing significantly to the model's performance. Larger values of C reduce the strength of regularization, allowing the coefficients to take on larger values to fit the training data more closely.\n",
    "\n",
    "4. Finding the optimal C value: The choice of C value depends on the dataset and the problem at hand. It's often determined through techniques like cross-validation, where different C values are tried, and the one that results in the best performance on a validation set is selected. Too small a value of C might cause underfitting, while too large a value could lead to overfitting."
   ]
  },
  {
   "cell_type": "markdown",
   "id": "d5a6f4b1",
   "metadata": {},
   "source": [
    "---"
   ]
  },
  {
   "cell_type": "markdown",
   "id": "38274fa6",
   "metadata": {},
   "source": [
    "# DecisionTreeClassifier\n",
    "\n",
    "\n",
    "1. **criterion**: The function to measure the quality of a split. It can be either 'gini' for the Gini impurity or 'entropy' for the information gain.\n",
    "\n",
    "2. **splitter**: The strategy used to choose the split at each node. It can be 'best' to choose the best split or 'random' to choose the best random split.\n",
    "\n",
    "3. **max_depth**: The maximum depth of the tree. If not specified, nodes are expanded until all leaves are pure or until all leaves contain less than min_samples_split samples.\n",
    "\n",
    "4. **min_samples_split**: The minimum number of samples required to split an internal node.\n",
    "\n",
    "5. **min_samples_leaf**: The minimum number of samples required to be at a leaf node.\n",
    "\n",
    "6. **max_features**: The number of features to consider when looking for the best split.\n",
    "\n",
    "7. **max_leaf_nodes**: Grow a tree with max_leaf_nodes in best-first fashion. Best nodes are defined as relative reduction in impurity.\n",
    "\n",
    "8. **random_state**: The seed used by the random number generator.\n",
    "\n",
    "9. **class_weight**: Weights associated with classes. It can be 'balanced' to automatically adjust weights inversely proportional to class frequencies in the input data or a dictionary where keys are the class labels and values are the corresponding weights."
   ]
  },
  {
   "cell_type": "code",
   "execution_count": null,
   "id": "e5cabde4",
   "metadata": {},
   "outputs": [],
   "source": [
    "param_grid = {\n",
    "    'criterion': ['gini', 'entropy'],\n",
    "    'max_depth': [None, 5, 10, 15],\n",
    "    'min_samples_split': [2, 5, 10],\n",
    "    'min_samples_leaf': [1, 2, 4],\n",
    "    'max_features': [None, 'sqrt', 'log2']\n",
    "}\n",
    "\n",
    "# Create the DecisionTreeClassifier\n",
    "clf = DecisionTreeClassifier(random_state=42)\n",
    "\n",
    "# Create GridSearchCV object\n",
    "grid_search = GridSearchCV(estimator=clf, param_grid=param_grid, cv=5, n_jobs=-1, verbose=2)\n",
    "\n",
    "# Fit the GridSearchCV object to find the best parameters\n",
    "grid_search.fit(X_train, y_train)\n",
    "\n",
    "# Print the best parameters found\n",
    "print(\"Best Parameters:\", grid_search.best_params_)\n",
    "\n",
    "# Optionally, you can access the best estimator and use it for further analysis or prediction\n",
    "best_clf = grid_search.best_estimator_\n",
    "\n",
    "# You can also access other attributes of the GridSearchCV object, such as best score and CV results\n",
    "print(\"Best Score:\", grid_search.best_score_)\n",
    "print(\"CV Results:\", grid_search.cv_results_)\n"
   ]
  },
  {
   "cell_type": "code",
   "execution_count": null,
   "id": "a20a1ac0",
   "metadata": {},
   "outputs": [],
   "source": []
  },
  {
   "cell_type": "code",
   "execution_count": null,
   "id": "da90efeb",
   "metadata": {},
   "outputs": [],
   "source": []
  },
  {
   "cell_type": "code",
   "execution_count": null,
   "id": "d7f60867",
   "metadata": {},
   "outputs": [],
   "source": [
    "# Define classifiers with their respective hyperparameters grid to search\n",
    "classifiers = {\n",
    "    'Logistic Regression': (LogisticRegression(), {'penalty': ['l1', 'l2'], 'C': [0.001, 0.01, 0.1, 1, 10, 100], 'solver': ['liblinear', 'saga']}),\n",
    "    'Decision Tree': (DecisionTreeClassifier(), {'criterion': ['gini', 'entropy'], 'max_depth': [None, 5, 10, 15], 'min_samples_split': [2, 5, 10], 'min_samples_leaf': [1, 2, 4]}),\n",
    "    'Random Forest': (RandomForestClassifier(), {'n_estimators': [100, 200, 300], 'max_depth': [None, 5, 10, 15], 'min_samples_split': [2, 5, 10], 'min_samples_leaf': [1, 2, 4], 'max_features': ['sqrt', 'log2']}), \n",
    "    'AdaBoost': (AdaBoostClassifier(), {'n_estimators': [50, 100, 200], 'learning_rate': [0.01, 0.1, 1.0]}),\n",
    "    'Gradient Boosting': (GradientBoostingClassifier(), {'n_estimators': [50, 100, 200], 'learning_rate': [0.01, 0.1, 1.0], 'max_depth': [3, 5, 7]}),\n",
    "    'SVM': (SVC(), {'C': [0.001, 0.01, 0.1, 1, 10, 100], 'kernel': ['linear', 'poly', 'rbf', 'sigmoid'], 'gamma': ['scale', 'auto']}),\n",
    "    'k-NN': (KNeighborsClassifier(), {'n_neighbors': [3, 5, 7, 9], 'weights': ['uniform', 'distance'], 'algorithm': ['auto', 'ball_tree', 'kd_tree', 'brute']}),\n",
    "    'Naive Bayes': (GaussianNB(), {}),\n",
    "    'Neural Network': (MLPClassifier(), {'hidden_layer_sizes': [(100,), (50, 100), (50, 50, 50)], 'activation': ['relu', 'logistic'], 'solver': ['adam'], 'alpha': [0.0001, 0.001, 0.01], 'learning_rate': ['constant', 'invscaling', 'adaptive']}),\n",
    "    'Linear Discriminant Analysis': (LinearDiscriminantAnalysis(), {}),\n",
    "    'Quadratic Discriminant Analysis': (QuadraticDiscriminantAnalysis(), {}),\n",
    "    'SGD Classifier': (SGDClassifier(), {'loss': ['hinge', 'log', 'modified_huber', 'squared_hinge', 'perceptron'], 'penalty': ['l1', 'l2', 'elasticnet'], 'alpha': [0.0001, 0.001, 0.01, 0.1, 1]}),\n",
    "    'XGBoost': (XGBClassifier(), {'n_estimators': [50, 100, 200], 'learning_rate': [0.01, 0.1, 1.0], 'max_depth': [3, 5, 7]}),\n",
    "    'LightGBM': (LGBMClassifier(), {'n_estimators': [50, 100, 200], 'learning_rate': [0.01, 0.1, 1.0], 'max_depth': [3, 5, 7]}),\n",
    "    'CatBoost': (CatBoostClassifier(), {'iterations': [50, 100, 200], 'learning_rate': [0.01, 0.1, 1.0], 'depth': [3, 5, 7]})\n",
    "}\n",
    "\n",
    "# Perform GridSearchCV for each classifier\n",
    "for name, (classifier, param_grid) in classifiers.items():\n",
    "    print(\"Tuning hyperparameters for:\", name)\n",
    "    grid_search = GridSearchCV(estimator=classifier, param_grid=param_grid, cv=5, n_jobs=-1, verbose=2)\n",
    "    grid_search.fit(X, y)\n",
    "    print(\"Best Parameters:\", grid_search.best_params_)\n",
    "    print(\"Best Score:\", grid_search.best_score_)\n",
    "    print(\"\\n\")"
   ]
  },
  {
   "cell_type": "code",
   "execution_count": null,
   "id": "c237d1fd",
   "metadata": {},
   "outputs": [],
   "source": []
  },
  {
   "cell_type": "code",
   "execution_count": null,
   "id": "868bbcaf",
   "metadata": {},
   "outputs": [],
   "source": []
  },
  {
   "cell_type": "code",
   "execution_count": null,
   "id": "b4e4aa8f",
   "metadata": {},
   "outputs": [],
   "source": []
  },
  {
   "cell_type": "code",
   "execution_count": null,
   "id": "13587d24",
   "metadata": {},
   "outputs": [],
   "source": []
  },
  {
   "cell_type": "code",
   "execution_count": null,
   "id": "0b5d2577",
   "metadata": {},
   "outputs": [],
   "source": []
  },
  {
   "cell_type": "code",
   "execution_count": null,
   "id": "0a3aad66",
   "metadata": {},
   "outputs": [],
   "source": []
  },
  {
   "cell_type": "code",
   "execution_count": null,
   "id": "30b207f9",
   "metadata": {},
   "outputs": [],
   "source": []
  },
  {
   "cell_type": "code",
   "execution_count": null,
   "id": "0ee9a5e9",
   "metadata": {},
   "outputs": [],
   "source": []
  },
  {
   "cell_type": "code",
   "execution_count": null,
   "id": "cadd18e9",
   "metadata": {},
   "outputs": [],
   "source": []
  }
 ],
 "metadata": {
  "kernelspec": {
   "display_name": "Python 3 (ipykernel)",
   "language": "python",
   "name": "python3"
  },
  "language_info": {
   "codemirror_mode": {
    "name": "ipython",
    "version": 3
   },
   "file_extension": ".py",
   "mimetype": "text/x-python",
   "name": "python",
   "nbconvert_exporter": "python",
   "pygments_lexer": "ipython3",
   "version": "3.11.4"
  }
 },
 "nbformat": 4,
 "nbformat_minor": 5
}
